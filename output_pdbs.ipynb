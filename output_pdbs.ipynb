{
 "cells": [
  {
   "cell_type": "markdown",
   "metadata": {},
   "source": [
    "# Output PDBs with escape scores as B factors\n",
    "This Python Jupyter notebook outputs PDBs with the escape scores as B factors.\n",
    "\n",
    "Though we will want more elaborate series of commands to codify our visualization of these RBD structures colored by escape, the series of commands below, when executed in a `PyMol` session with one of these PDBs open, will color the RBD surface according to escape scores.\n",
    "\n",
    "For example, to normalize each structure colored by the max mut effect, we might want to have a white to red scale from 0 to 1:\n",
    "\n",
    "     create RBD, chain E\n",
    "     hide all; show cartoon, chain A; color gray20, chain A\n",
    "     show surface, RBD; spectrum b, white red, RBD, minimum=0, maximum=1\n",
    "     \n",
    "For something like total escape, maybe we want each structure normalized to the maximum total escape in that structure, in which case we can just leave the maximum argument empty:\n",
    "\n",
    "     create RBD, chain E\n",
    "     hide all; show cartoon, chain A; color gray20, chain A\n",
    "     show surface, RBD; spectrum b, white red, RBD, minimum=0\n",
    "     \n",
    "We write PDBs with B factors indicating the total site escape and maximum mutation escape at each site, and the same with these values normalized to the maximum for the full structure (the latter are easier to process in `Chimera`).\n",
    "\n",
    "First, import Python modules:"
   ]
  },
  {
   "cell_type": "code",
   "execution_count": 1,
   "metadata": {
    "execution": {
     "iopub.execute_input": "2020-11-30T00:20:08.679435Z",
     "iopub.status.busy": "2020-11-30T00:20:08.678779Z",
     "iopub.status.idle": "2020-11-30T00:20:09.400096Z",
     "shell.execute_reply": "2020-11-30T00:20:09.401110Z"
    }
   },
   "outputs": [],
   "source": [
    "import collections\n",
    "import copy\n",
    "import os\n",
    "import warnings\n",
    "\n",
    "import Bio.PDB\n",
    "\n",
    "import dms_variants.pdb_utils\n",
    "\n",
    "from IPython.display import display, HTML\n",
    "\n",
    "import pandas as pd\n",
    "\n",
    "import yaml"
   ]
  },
  {
   "cell_type": "markdown",
   "metadata": {},
   "source": [
    "Read the configuration file:"
   ]
  },
  {
   "cell_type": "code",
   "execution_count": 2,
   "metadata": {
    "execution": {
     "iopub.execute_input": "2020-11-30T00:20:09.406442Z",
     "iopub.status.busy": "2020-11-30T00:20:09.405622Z",
     "iopub.status.idle": "2020-11-30T00:20:09.426937Z",
     "shell.execute_reply": "2020-11-30T00:20:09.427749Z"
    }
   },
   "outputs": [],
   "source": [
    "with open('config.yaml') as f:\n",
    "    config = yaml.safe_load(f)"
   ]
  },
  {
   "cell_type": "markdown",
   "metadata": {},
   "source": [
    "Read configuration for outputting PDBs:"
   ]
  },
  {
   "cell_type": "code",
   "execution_count": 3,
   "metadata": {
    "execution": {
     "iopub.execute_input": "2020-11-30T00:20:09.432350Z",
     "iopub.status.busy": "2020-11-30T00:20:09.431581Z",
     "iopub.status.idle": "2020-11-30T00:20:09.439227Z",
     "shell.execute_reply": "2020-11-30T00:20:09.439781Z"
    }
   },
   "outputs": [
    {
     "name": "stdout",
     "output_type": "stream",
     "text": [
      "Reading PDB output configuration from data/output_pdbs_config.yaml\n"
     ]
    }
   ],
   "source": [
    "print(f\"Reading PDB output configuration from {config['output_pdbs_config']}\")\n",
    "with open(config['output_pdbs_config']) as f:\n",
    "    output_pdbs_config = yaml.safe_load(f)"
   ]
  },
  {
   "cell_type": "markdown",
   "metadata": {},
   "source": [
    "Make output directory:"
   ]
  },
  {
   "cell_type": "code",
   "execution_count": 4,
   "metadata": {
    "execution": {
     "iopub.execute_input": "2020-11-30T00:20:09.444152Z",
     "iopub.status.busy": "2020-11-30T00:20:09.443596Z",
     "iopub.status.idle": "2020-11-30T00:20:09.483235Z",
     "shell.execute_reply": "2020-11-30T00:20:09.483953Z"
    }
   },
   "outputs": [],
   "source": [
    "os.makedirs(config['pdb_outputs_dir'], exist_ok=True)"
   ]
  },
  {
   "cell_type": "markdown",
   "metadata": {},
   "source": [
    "Read escape fractions and compute **total** and **maximum** escape at each site, and also the total and maximum escape at each site normalized to be between 0 and 1 for each selection:"
   ]
  },
  {
   "cell_type": "code",
   "execution_count": 5,
   "metadata": {
    "execution": {
     "iopub.execute_input": "2020-11-30T00:20:09.494942Z",
     "iopub.status.busy": "2020-11-30T00:20:09.494078Z",
     "iopub.status.idle": "2020-11-30T00:20:09.593135Z",
     "shell.execute_reply": "2020-11-30T00:20:09.594125Z"
    }
   },
   "outputs": [
    {
     "name": "stdout",
     "output_type": "stream",
     "text": [
      "Reading escape fractions from results/escape_scores/escape_fracs.csv\n"
     ]
    },
    {
     "data": {
      "text/html": [
       "<table border=\"1\" class=\"dataframe\">\n",
       "  <thead>\n",
       "    <tr style=\"text-align: right;\">\n",
       "      <th>selection</th>\n",
       "      <th>site</th>\n",
       "      <th>total_escape</th>\n",
       "      <th>max_escape</th>\n",
       "      <th>max_total_escape</th>\n",
       "      <th>max_max_escape</th>\n",
       "      <th>norm_total_escape</th>\n",
       "      <th>norm_max_escape</th>\n",
       "    </tr>\n",
       "  </thead>\n",
       "  <tbody>\n",
       "    <tr>\n",
       "      <td>CB6_400</td>\n",
       "      <td>331</td>\n",
       "      <td>0.040314</td>\n",
       "      <td>0.013650</td>\n",
       "      <td>17.83399</td>\n",
       "      <td>0.9972</td>\n",
       "      <td>0.002261</td>\n",
       "      <td>0.013688</td>\n",
       "    </tr>\n",
       "    <tr>\n",
       "      <td>CB6_400</td>\n",
       "      <td>332</td>\n",
       "      <td>0.085961</td>\n",
       "      <td>0.026530</td>\n",
       "      <td>17.83399</td>\n",
       "      <td>0.9972</td>\n",
       "      <td>0.004820</td>\n",
       "      <td>0.026604</td>\n",
       "    </tr>\n",
       "    <tr>\n",
       "      <td>CB6_400</td>\n",
       "      <td>333</td>\n",
       "      <td>0.048161</td>\n",
       "      <td>0.013420</td>\n",
       "      <td>17.83399</td>\n",
       "      <td>0.9972</td>\n",
       "      <td>0.002701</td>\n",
       "      <td>0.013458</td>\n",
       "    </tr>\n",
       "    <tr>\n",
       "      <td>CB6_400</td>\n",
       "      <td>334</td>\n",
       "      <td>0.043309</td>\n",
       "      <td>0.006111</td>\n",
       "      <td>17.83399</td>\n",
       "      <td>0.9972</td>\n",
       "      <td>0.002428</td>\n",
       "      <td>0.006128</td>\n",
       "    </tr>\n",
       "    <tr>\n",
       "      <td>CB6_400</td>\n",
       "      <td>335</td>\n",
       "      <td>0.032980</td>\n",
       "      <td>0.004959</td>\n",
       "      <td>17.83399</td>\n",
       "      <td>0.9972</td>\n",
       "      <td>0.001849</td>\n",
       "      <td>0.004973</td>\n",
       "    </tr>\n",
       "  </tbody>\n",
       "</table>"
      ],
      "text/plain": [
       "<IPython.core.display.HTML object>"
      ]
     },
     "metadata": {},
     "output_type": "display_data"
    }
   ],
   "source": [
    "print(f\"Reading escape fractions from {config['escape_fracs']}\")\n",
    "\n",
    "escape_fracs = (\n",
    "    pd.read_csv(config['escape_fracs'])\n",
    "    .query('library == \"average\"')\n",
    "    .assign(site=lambda x: x['label_site'])\n",
    "    .groupby(['selection', 'site'])\n",
    "    .aggregate(total_escape=pd.NamedAgg(config['mut_metric'], 'sum'),\n",
    "               max_escape=pd.NamedAgg(config['mut_metric'], 'max')\n",
    "               )\n",
    "    .reset_index()\n",
    "    .assign(max_total_escape=lambda x: x.groupby('selection')['total_escape'].transform('max'),\n",
    "            max_max_escape=lambda x: x.groupby('selection')['max_escape'].transform('max'),\n",
    "            norm_total_escape=lambda x: x['total_escape'] / x['max_total_escape'],\n",
    "            norm_max_escape=lambda x: x['max_escape'] / x['max_max_escape'])\n",
    "    )\n",
    "\n",
    "display(HTML(escape_fracs.head().to_html(index=False)))"
   ]
  },
  {
   "cell_type": "markdown",
   "metadata": {},
   "source": [
    "Now map the escape metrics to the B-factors.\n",
    "For sites where no mutations have escape scores:\n",
    " - In the RBD chain(s) fill the B-factor for non-normalized scores to -1 to enable collapsing to zero or callout as a a separate class, depending how we choose to color sites for different visualizations. For normalized scores, fill to 0.\n",
    " - In other chains, always fill missing B factors to 0.  "
   ]
  },
  {
   "cell_type": "code",
   "execution_count": 6,
   "metadata": {
    "execution": {
     "iopub.execute_input": "2020-11-30T00:20:09.607027Z",
     "iopub.status.busy": "2020-11-30T00:20:09.606337Z",
     "iopub.status.idle": "2020-11-30T00:20:17.616885Z",
     "shell.execute_reply": "2020-11-30T00:20:17.617909Z"
    }
   },
   "outputs": [
    {
     "name": "stdout",
     "output_type": "stream",
     "text": [
      "\n",
      "Making PDB mappings for 6m0j to data/pdbs/6M0J.pdb\n",
      "Making mappings for 4 conditions.\n",
      "Mapping to the following chains: E\n",
      "  Writing B-factor re-assigned PDBs for CB6_400 to:\n",
      "    results/pdb_outputs/CB6_400_6m0j_total_escape.pdb\n",
      "    results/pdb_outputs/CB6_400_6m0j_max_escape.pdb\n",
      "    results/pdb_outputs/CB6_400_6m0j_norm_total_escape.pdb\n",
      "    results/pdb_outputs/CB6_400_6m0j_norm_max_escape.pdb\n",
      "  Writing B-factor re-assigned PDBs for REGN10933+REGN10987_400 to:\n",
      "    results/pdb_outputs/REGN10933+REGN10987_400_6m0j_total_escape.pdb\n",
      "    results/pdb_outputs/REGN10933+REGN10987_400_6m0j_max_escape.pdb\n",
      "    results/pdb_outputs/REGN10933+REGN10987_400_6m0j_norm_total_escape.pdb\n",
      "    results/pdb_outputs/REGN10933+REGN10987_400_6m0j_norm_max_escape.pdb\n",
      "  Writing B-factor re-assigned PDBs for REGN10933_400 to:\n",
      "    results/pdb_outputs/REGN10933_400_6m0j_total_escape.pdb\n",
      "    results/pdb_outputs/REGN10933_400_6m0j_max_escape.pdb\n",
      "    results/pdb_outputs/REGN10933_400_6m0j_norm_total_escape.pdb\n",
      "    results/pdb_outputs/REGN10933_400_6m0j_norm_max_escape.pdb\n",
      "  Writing B-factor re-assigned PDBs for REGN10987_400 to:\n",
      "    results/pdb_outputs/REGN10987_400_6m0j_total_escape.pdb\n",
      "    results/pdb_outputs/REGN10987_400_6m0j_max_escape.pdb\n",
      "    results/pdb_outputs/REGN10987_400_6m0j_norm_total_escape.pdb\n",
      "    results/pdb_outputs/REGN10987_400_6m0j_norm_max_escape.pdb\n",
      "\n",
      "Making PDB mappings for 6xdg to data/pdbs/6xdg.pdb\n",
      "Making mappings for 3 conditions.\n",
      "Mapping to the following chains: E\n",
      "  Writing B-factor re-assigned PDBs for REGN10933+REGN10987_400 to:\n",
      "    results/pdb_outputs/REGN10933+REGN10987_400_6xdg_total_escape.pdb\n",
      "    results/pdb_outputs/REGN10933+REGN10987_400_6xdg_max_escape.pdb\n",
      "    results/pdb_outputs/REGN10933+REGN10987_400_6xdg_norm_total_escape.pdb\n",
      "    results/pdb_outputs/REGN10933+REGN10987_400_6xdg_norm_max_escape.pdb\n",
      "  Writing B-factor re-assigned PDBs for REGN10933_400 to:\n",
      "    results/pdb_outputs/REGN10933_400_6xdg_total_escape.pdb\n",
      "    results/pdb_outputs/REGN10933_400_6xdg_max_escape.pdb\n",
      "    results/pdb_outputs/REGN10933_400_6xdg_norm_total_escape.pdb\n",
      "    results/pdb_outputs/REGN10933_400_6xdg_norm_max_escape.pdb\n",
      "  Writing B-factor re-assigned PDBs for REGN10987_400 to:\n",
      "    results/pdb_outputs/REGN10987_400_6xdg_total_escape.pdb\n",
      "    results/pdb_outputs/REGN10987_400_6xdg_max_escape.pdb\n",
      "    results/pdb_outputs/REGN10987_400_6xdg_norm_total_escape.pdb\n",
      "    results/pdb_outputs/REGN10987_400_6xdg_norm_max_escape.pdb\n",
      "\n",
      "Making PDB mappings for 6xdg_REGN10933 to data/pdbs/6xdg_REGN10933-only.pdb\n",
      "Making mappings for 1 conditions.\n",
      "Mapping to the following chains: E\n",
      "  Writing B-factor re-assigned PDBs for REGN10933_400 to:\n",
      "    results/pdb_outputs/REGN10933_400_6xdg_REGN10933_total_escape.pdb\n",
      "    results/pdb_outputs/REGN10933_400_6xdg_REGN10933_max_escape.pdb\n",
      "    results/pdb_outputs/REGN10933_400_6xdg_REGN10933_norm_total_escape.pdb\n",
      "    results/pdb_outputs/REGN10933_400_6xdg_REGN10933_norm_max_escape.pdb\n",
      "\n",
      "Making PDB mappings for 6xdg_REGN10987 to data/pdbs/6xdg_REGN10987-only.pdb\n",
      "Making mappings for 1 conditions.\n",
      "Mapping to the following chains: E\n",
      "  Writing B-factor re-assigned PDBs for REGN10987_400 to:\n",
      "    results/pdb_outputs/REGN10987_400_6xdg_REGN10987_total_escape.pdb\n",
      "    results/pdb_outputs/REGN10987_400_6xdg_REGN10987_max_escape.pdb\n",
      "    results/pdb_outputs/REGN10987_400_6xdg_REGN10987_norm_total_escape.pdb\n",
      "    results/pdb_outputs/REGN10987_400_6xdg_REGN10987_norm_max_escape.pdb\n",
      "\n",
      "Making PDB mappings for 7c01 to data/pdbs/7c01_single.pdb\n",
      "Making mappings for 1 conditions.\n",
      "Mapping to the following chains: A\n",
      "  Writing B-factor re-assigned PDBs for CB6_400 to:\n",
      "    results/pdb_outputs/CB6_400_7c01_total_escape.pdb\n",
      "    results/pdb_outputs/CB6_400_7c01_max_escape.pdb\n",
      "    results/pdb_outputs/CB6_400_7c01_norm_total_escape.pdb\n",
      "    results/pdb_outputs/CB6_400_7c01_norm_max_escape.pdb\n"
     ]
    }
   ],
   "source": [
    "for name, specs in output_pdbs_config.items():\n",
    "    print(f\"\\nMaking PDB mappings for {name} to {specs['pdbfile']}\")\n",
    "    assert os.path.isfile(specs['pdbfile'])\n",
    "    \n",
    "    # get escape fracs just for conditions of interest\n",
    "    if isinstance(specs['conditions'], str) and specs['conditions'].upper() == 'ALL':\n",
    "        conditions = escape_fracs['selection'].unique().tolist()\n",
    "    else:\n",
    "        assert isinstance(specs['conditions'], list)\n",
    "        conditions = specs['conditions']\n",
    "    print(f\"Making mappings for {len(conditions)} conditions.\")\n",
    "    df = escape_fracs.query('selection in @conditions')\n",
    "    \n",
    "    # get chains\n",
    "    assert isinstance(specs['chains'], list)\n",
    "    print('Mapping to the following chains: ' + ', '.join(specs['chains']))\n",
    "    df = pd.concat([df.assign(chain=chain) for chain in specs['chains']], ignore_index=True)\n",
    "    \n",
    "    # make mappings for each condition and metric\n",
    "    for condition, df in df.groupby('selection'):\n",
    "        print(f\"  Writing B-factor re-assigned PDBs for {condition} to:\")\n",
    "    \n",
    "        for metric in ['total_escape', 'max_escape', 'norm_total_escape', 'norm_max_escape']:\n",
    "        \n",
    "            # what do we assign to missing sites?\n",
    "            missing_metric = collections.defaultdict(lambda: 0)  # non-RBD chains always fill to zero\n",
    "            for chain in specs['chains']:\n",
    "                if 'norm' in metric:\n",
    "                    missing_metric[chain] = 0  # missing sites in RBD are 0 for normalized metric PDBs\n",
    "                else:\n",
    "                    missing_metric[chain] = -1  # missing sites in RBD are -1 for non-normalized metric PDBs\n",
    "        \n",
    "            fname = os.path.join(config['pdb_outputs_dir'], f\"{condition}_{name}_{metric}.pdb\")\n",
    "            print(f\"    {fname}\")\n",
    "            \n",
    "            dms_variants.pdb_utils.reassign_b_factor(input_pdbfile=specs['pdbfile'],\n",
    "                                                     output_pdbfile=fname,\n",
    "                                                     df=df,\n",
    "                                                     metric_col=metric,\n",
    "                                                     missing_metric=missing_metric)"
   ]
  }
 ],
 "metadata": {
  "language_info": {
   "codemirror_mode": {
    "name": "ipython",
    "version": 3
   },
   "file_extension": ".py",
   "mimetype": "text/x-python",
   "name": "python",
   "nbconvert_exporter": "python",
   "pygments_lexer": "ipython3",
   "version": "3.7.8"
  }
 },
 "nbformat": 4,
 "nbformat_minor": 4
}
