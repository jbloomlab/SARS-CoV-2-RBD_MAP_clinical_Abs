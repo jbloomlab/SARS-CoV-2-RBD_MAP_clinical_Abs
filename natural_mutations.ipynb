{
 "cells": [
  {
   "cell_type": "markdown",
   "metadata": {},
   "source": [
    "# Analyze naturally occurring mutations at sites of strong escape\n",
    "This Python Jupyter notebook sees how many naturally occuring mutations are observed at each site of strong escape"
   ]
  },
  {
   "cell_type": "markdown",
   "metadata": {},
   "source": [
    "## Set up analysis\n",
    "Import Python modules:"
   ]
  },
  {
   "cell_type": "code",
   "execution_count": 1,
   "metadata": {
    "execution": {
     "iopub.execute_input": "2020-11-18T01:05:28.229226Z",
     "iopub.status.busy": "2020-11-18T01:05:28.228819Z",
     "iopub.status.idle": "2020-11-18T01:05:29.992929Z",
     "shell.execute_reply": "2020-11-18T01:05:29.992236Z"
    }
   },
   "outputs": [],
   "source": [
    "import math\n",
    "import os\n",
    "\n",
    "from IPython.display import display, HTML\n",
    "\n",
    "import matplotlib.pyplot as plt\n",
    "\n",
    "import pandas as pd\n",
    "\n",
    "from plotnine import *\n",
    "\n",
    "import yaml"
   ]
  },
  {
   "cell_type": "markdown",
   "metadata": {},
   "source": [
    "Read the configuration file:"
   ]
  },
  {
   "cell_type": "code",
   "execution_count": 2,
   "metadata": {
    "execution": {
     "iopub.execute_input": "2020-11-18T01:05:29.996153Z",
     "iopub.status.busy": "2020-11-18T01:05:29.995749Z",
     "iopub.status.idle": "2020-11-18T01:05:30.013074Z",
     "shell.execute_reply": "2020-11-18T01:05:30.012458Z"
    }
   },
   "outputs": [],
   "source": [
    "with open('config.yaml') as f:\n",
    "    config = yaml.safe_load(f)"
   ]
  },
  {
   "cell_type": "markdown",
   "metadata": {},
   "source": [
    "Read escape profiles config, which tells which sets to make plots for:"
   ]
  },
  {
   "cell_type": "code",
   "execution_count": 3,
   "metadata": {
    "execution": {
     "iopub.execute_input": "2020-11-18T01:05:30.016161Z",
     "iopub.status.busy": "2020-11-18T01:05:30.015771Z",
     "iopub.status.idle": "2020-11-18T01:05:30.031876Z",
     "shell.execute_reply": "2020-11-18T01:05:30.031268Z"
    }
   },
   "outputs": [],
   "source": [
    "with open(config['escape_profiles_config']) as f:\n",
    "    escape_profiles_config = yaml.safe_load(f)"
   ]
  },
  {
   "cell_type": "markdown",
   "metadata": {},
   "source": [
    "Create output directory:"
   ]
  },
  {
   "cell_type": "code",
   "execution_count": 4,
   "metadata": {
    "execution": {
     "iopub.execute_input": "2020-11-18T01:05:30.035034Z",
     "iopub.status.busy": "2020-11-18T01:05:30.034606Z",
     "iopub.status.idle": "2020-11-18T01:05:30.037776Z",
     "shell.execute_reply": "2020-11-18T01:05:30.037355Z"
    }
   },
   "outputs": [],
   "source": [
    "os.makedirs(config['gisaid_mutations_dir'], exist_ok=True)"
   ]
  },
  {
   "cell_type": "markdown",
   "metadata": {},
   "source": [
    "Read counts of naturally ocurring mutations:"
   ]
  },
  {
   "cell_type": "code",
   "execution_count": 5,
   "metadata": {
    "execution": {
     "iopub.execute_input": "2020-11-18T01:05:30.042028Z",
     "iopub.status.busy": "2020-11-18T01:05:30.041616Z",
     "iopub.status.idle": "2020-11-18T01:05:30.048283Z",
     "shell.execute_reply": "2020-11-18T01:05:30.047807Z"
    }
   },
   "outputs": [
    {
     "name": "stdout",
     "output_type": "stream",
     "text": [
      "Reading mutation counts from results/GISAID_mutations/mutation_counts.csv\n"
     ]
    }
   ],
   "source": [
    "print(f\"Reading mutation counts from {config['gisaid_mutation_counts']}\")\n",
    "\n",
    "mut_counts = pd.read_csv(config['gisaid_mutation_counts'])"
   ]
  },
  {
   "cell_type": "markdown",
   "metadata": {},
   "source": [
    "Read sites of \"strong escape\" from all antibodies / sera:"
   ]
  },
  {
   "cell_type": "code",
   "execution_count": 6,
   "metadata": {
    "execution": {
     "iopub.execute_input": "2020-11-18T01:05:30.052805Z",
     "iopub.status.busy": "2020-11-18T01:05:30.052329Z",
     "iopub.status.idle": "2020-11-18T01:05:30.058937Z",
     "shell.execute_reply": "2020-11-18T01:05:30.058460Z"
    }
   },
   "outputs": [
    {
     "name": "stdout",
     "output_type": "stream",
     "text": [
      "Reading sites of strong escape from results/escape_profiles/strong_escape_sites.csv\n"
     ]
    }
   ],
   "source": [
    "print(f\"Reading sites of strong escape from {config['strong_escape_sites']}\")\n",
    "\n",
    "strong_sites = pd.read_csv(config['strong_escape_sites'])"
   ]
  },
  {
   "cell_type": "markdown",
   "metadata": {},
   "source": [
    "Read escape fractions for all antibodies / sera:"
   ]
  },
  {
   "cell_type": "code",
   "execution_count": 7,
   "metadata": {
    "execution": {
     "iopub.execute_input": "2020-11-18T01:05:30.064179Z",
     "iopub.status.busy": "2020-11-18T01:05:30.063686Z",
     "iopub.status.idle": "2020-11-18T01:05:30.132801Z",
     "shell.execute_reply": "2020-11-18T01:05:30.132339Z"
    }
   },
   "outputs": [
    {
     "name": "stdout",
     "output_type": "stream",
     "text": [
      "Reading escape fractions from results/escape_scores/escape_fracs.csv\n"
     ]
    },
    {
     "data": {
      "text/html": [
       "<div>\n",
       "<style scoped>\n",
       "    .dataframe tbody tr th:only-of-type {\n",
       "        vertical-align: middle;\n",
       "    }\n",
       "\n",
       "    .dataframe tbody tr th {\n",
       "        vertical-align: top;\n",
       "    }\n",
       "\n",
       "    .dataframe thead th {\n",
       "        text-align: right;\n",
       "    }\n",
       "</style>\n",
       "<table border=\"1\" class=\"dataframe\">\n",
       "  <thead>\n",
       "    <tr style=\"text-align: right;\">\n",
       "      <th></th>\n",
       "      <th>condition</th>\n",
       "      <th>site</th>\n",
       "      <th>wildtype</th>\n",
       "      <th>mutant</th>\n",
       "      <th>mut_escape_frac_epistasis_model</th>\n",
       "      <th>site_total_escape_frac_epistasis_model</th>\n",
       "    </tr>\n",
       "  </thead>\n",
       "  <tbody>\n",
       "    <tr>\n",
       "      <th>0</th>\n",
       "      <td>CB6_400</td>\n",
       "      <td>331</td>\n",
       "      <td>N</td>\n",
       "      <td>A</td>\n",
       "      <td>0.001044</td>\n",
       "      <td>0.03952</td>\n",
       "    </tr>\n",
       "    <tr>\n",
       "      <th>1</th>\n",
       "      <td>CB6_400</td>\n",
       "      <td>331</td>\n",
       "      <td>N</td>\n",
       "      <td>D</td>\n",
       "      <td>0.002087</td>\n",
       "      <td>0.03952</td>\n",
       "    </tr>\n",
       "    <tr>\n",
       "      <th>2</th>\n",
       "      <td>CB6_400</td>\n",
       "      <td>331</td>\n",
       "      <td>N</td>\n",
       "      <td>E</td>\n",
       "      <td>0.001044</td>\n",
       "      <td>0.03952</td>\n",
       "    </tr>\n",
       "    <tr>\n",
       "      <th>3</th>\n",
       "      <td>CB6_400</td>\n",
       "      <td>331</td>\n",
       "      <td>N</td>\n",
       "      <td>F</td>\n",
       "      <td>0.001044</td>\n",
       "      <td>0.03952</td>\n",
       "    </tr>\n",
       "    <tr>\n",
       "      <th>4</th>\n",
       "      <td>CB6_400</td>\n",
       "      <td>331</td>\n",
       "      <td>N</td>\n",
       "      <td>G</td>\n",
       "      <td>0.005013</td>\n",
       "      <td>0.03952</td>\n",
       "    </tr>\n",
       "    <tr>\n",
       "      <th>...</th>\n",
       "      <td>...</td>\n",
       "      <td>...</td>\n",
       "      <td>...</td>\n",
       "      <td>...</td>\n",
       "      <td>...</td>\n",
       "      <td>...</td>\n",
       "    </tr>\n",
       "    <tr>\n",
       "      <th>7787</th>\n",
       "      <td>REGN10987_400</td>\n",
       "      <td>531</td>\n",
       "      <td>T</td>\n",
       "      <td>R</td>\n",
       "      <td>0.002305</td>\n",
       "      <td>0.04055</td>\n",
       "    </tr>\n",
       "    <tr>\n",
       "      <th>7788</th>\n",
       "      <td>REGN10987_400</td>\n",
       "      <td>531</td>\n",
       "      <td>T</td>\n",
       "      <td>S</td>\n",
       "      <td>0.002368</td>\n",
       "      <td>0.04055</td>\n",
       "    </tr>\n",
       "    <tr>\n",
       "      <th>7789</th>\n",
       "      <td>REGN10987_400</td>\n",
       "      <td>531</td>\n",
       "      <td>T</td>\n",
       "      <td>V</td>\n",
       "      <td>0.002198</td>\n",
       "      <td>0.04055</td>\n",
       "    </tr>\n",
       "    <tr>\n",
       "      <th>7790</th>\n",
       "      <td>REGN10987_400</td>\n",
       "      <td>531</td>\n",
       "      <td>T</td>\n",
       "      <td>W</td>\n",
       "      <td>0.001965</td>\n",
       "      <td>0.04055</td>\n",
       "    </tr>\n",
       "    <tr>\n",
       "      <th>7791</th>\n",
       "      <td>REGN10987_400</td>\n",
       "      <td>531</td>\n",
       "      <td>T</td>\n",
       "      <td>Y</td>\n",
       "      <td>0.002373</td>\n",
       "      <td>0.04055</td>\n",
       "    </tr>\n",
       "  </tbody>\n",
       "</table>\n",
       "<p>7792 rows × 6 columns</p>\n",
       "</div>"
      ],
      "text/plain": [
       "          condition  site wildtype mutant  mut_escape_frac_epistasis_model  \\\n",
       "0           CB6_400   331        N      A                         0.001044   \n",
       "1           CB6_400   331        N      D                         0.002087   \n",
       "2           CB6_400   331        N      E                         0.001044   \n",
       "3           CB6_400   331        N      F                         0.001044   \n",
       "4           CB6_400   331        N      G                         0.005013   \n",
       "...             ...   ...      ...    ...                              ...   \n",
       "7787  REGN10987_400   531        T      R                         0.002305   \n",
       "7788  REGN10987_400   531        T      S                         0.002368   \n",
       "7789  REGN10987_400   531        T      V                         0.002198   \n",
       "7790  REGN10987_400   531        T      W                         0.001965   \n",
       "7791  REGN10987_400   531        T      Y                         0.002373   \n",
       "\n",
       "      site_total_escape_frac_epistasis_model  \n",
       "0                                    0.03952  \n",
       "1                                    0.03952  \n",
       "2                                    0.03952  \n",
       "3                                    0.03952  \n",
       "4                                    0.03952  \n",
       "...                                      ...  \n",
       "7787                                 0.04055  \n",
       "7788                                 0.04055  \n",
       "7789                                 0.04055  \n",
       "7790                                 0.04055  \n",
       "7791                                 0.04055  \n",
       "\n",
       "[7792 rows x 6 columns]"
      ]
     },
     "execution_count": 1,
     "metadata": {},
     "output_type": "execute_result"
    }
   ],
   "source": [
    "print(f\"Reading escape fractions from {config['escape_fracs']}\")\n",
    "\n",
    "escape_fracs = (\n",
    "    pd.read_csv(config['escape_fracs'])\n",
    "    .query('library == \"average\"')\n",
    "    .drop(columns='site')\n",
    "    .rename(columns={'mutation': 'mutant',\n",
    "                     'label_site': 'site'})\n",
    "    [['condition', 'site', 'wildtype', 'mutant', config['mut_metric'], config['site_metric']]]\n",
    "    )\n",
    "\n",
    "escape_fracs"
   ]
  },
  {
   "cell_type": "markdown",
   "metadata": {},
   "source": [
    "## Counts of mutations at sites of escape\n",
    "Get counts of naturally occurring mutations at sites of escape, along with the actual escape values:\n",
    "\n",
    "First get mutation-level counts:"
   ]
  },
  {
   "cell_type": "code",
   "execution_count": 8,
   "metadata": {
    "execution": {
     "iopub.execute_input": "2020-11-18T01:05:30.138763Z",
     "iopub.status.busy": "2020-11-18T01:05:30.137984Z",
     "iopub.status.idle": "2020-11-18T01:05:30.153226Z",
     "shell.execute_reply": "2020-11-18T01:05:30.152716Z"
    }
   },
   "outputs": [],
   "source": [
    "mutcounts_strong_sites = (\n",
    "    strong_sites[['condition', 'threshold', 'site']]\n",
    "    .merge(mut_counts, how='inner', on='site')\n",
    "    .merge(escape_fracs[['condition', 'site', 'wildtype', config['site_metric']]].drop_duplicates(),\n",
    "           on=['condition', 'site', 'wildtype'],\n",
    "           validate='many_to_one')\n",
    "    .assign(mutation=lambda x: x['wildtype'] + x['site'].astype(str) + x['mutant'])\n",
    "    .sort_values('count', ascending=False)\n",
    "    )"
   ]
  },
  {
   "cell_type": "markdown",
   "metadata": {},
   "source": [
    "Now get site-level counts (aggregating all mutations at a site):"
   ]
  },
  {
   "cell_type": "code",
   "execution_count": 9,
   "metadata": {
    "execution": {
     "iopub.execute_input": "2020-11-18T01:05:30.161300Z",
     "iopub.status.busy": "2020-11-18T01:05:30.160043Z",
     "iopub.status.idle": "2020-11-18T01:05:30.176679Z",
     "shell.execute_reply": "2020-11-18T01:05:30.176256Z"
    }
   },
   "outputs": [
    {
     "name": "stdout",
     "output_type": "stream",
     "text": [
      "Here are first few lines showing the most frequently mutated sites of escape:\n"
     ]
    },
    {
     "data": {
      "text/html": [
       "<table border=\"1\" class=\"dataframe\">\n",
       "  <thead>\n",
       "    <tr style=\"text-align: right;\">\n",
       "      <th>condition</th>\n",
       "      <th>threshold</th>\n",
       "      <th>site</th>\n",
       "      <th>wildtype</th>\n",
       "      <th>site_total_escape_frac_epistasis_model</th>\n",
       "      <th>count</th>\n",
       "      <th>counts_by_mutation</th>\n",
       "    </tr>\n",
       "  </thead>\n",
       "  <tbody>\n",
       "    <tr>\n",
       "      <td>REGN10987_400</td>\n",
       "      <td>default</td>\n",
       "      <td>439</td>\n",
       "      <td>N</td>\n",
       "      <td>2.1500</td>\n",
       "      <td>2242</td>\n",
       "      <td>N439K (2242)</td>\n",
       "    </tr>\n",
       "    <tr>\n",
       "      <td>REGN10987_400</td>\n",
       "      <td>sensitive</td>\n",
       "      <td>439</td>\n",
       "      <td>N</td>\n",
       "      <td>2.1500</td>\n",
       "      <td>2242</td>\n",
       "      <td>N439K (2242)</td>\n",
       "    </tr>\n",
       "    <tr>\n",
       "      <td>REGN10933+REGN10987_400</td>\n",
       "      <td>sensitive</td>\n",
       "      <td>453</td>\n",
       "      <td>Y</td>\n",
       "      <td>0.1267</td>\n",
       "      <td>330</td>\n",
       "      <td>Y453F (330)</td>\n",
       "    </tr>\n",
       "    <tr>\n",
       "      <td>REGN10933_400</td>\n",
       "      <td>default</td>\n",
       "      <td>453</td>\n",
       "      <td>Y</td>\n",
       "      <td>4.1070</td>\n",
       "      <td>330</td>\n",
       "      <td>Y453F (330)</td>\n",
       "    </tr>\n",
       "    <tr>\n",
       "      <td>REGN10933_400</td>\n",
       "      <td>sensitive</td>\n",
       "      <td>453</td>\n",
       "      <td>Y</td>\n",
       "      <td>4.1070</td>\n",
       "      <td>330</td>\n",
       "      <td>Y453F (330)</td>\n",
       "    </tr>\n",
       "    <tr>\n",
       "      <td>CB6_400</td>\n",
       "      <td>sensitive</td>\n",
       "      <td>501</td>\n",
       "      <td>N</td>\n",
       "      <td>1.4430</td>\n",
       "      <td>225</td>\n",
       "      <td>N501Y (210), N501T (10), N501S (5)</td>\n",
       "    </tr>\n",
       "    <tr>\n",
       "      <td>REGN10933_400</td>\n",
       "      <td>default</td>\n",
       "      <td>484</td>\n",
       "      <td>E</td>\n",
       "      <td>2.9970</td>\n",
       "      <td>66</td>\n",
       "      <td>E484Q (29), E484K (27), E484A (6), E484D (3), E484R (1)</td>\n",
       "    </tr>\n",
       "    <tr>\n",
       "      <td>REGN10933_400</td>\n",
       "      <td>sensitive</td>\n",
       "      <td>484</td>\n",
       "      <td>E</td>\n",
       "      <td>2.9970</td>\n",
       "      <td>66</td>\n",
       "      <td>E484Q (29), E484K (27), E484A (6), E484D (3), E484R (1)</td>\n",
       "    </tr>\n",
       "    <tr>\n",
       "      <td>REGN10933+REGN10987_400</td>\n",
       "      <td>sensitive</td>\n",
       "      <td>446</td>\n",
       "      <td>G</td>\n",
       "      <td>0.1180</td>\n",
       "      <td>38</td>\n",
       "      <td>G446V (29), G446S (7), G446A (2)</td>\n",
       "    </tr>\n",
       "    <tr>\n",
       "      <td>REGN10987_400</td>\n",
       "      <td>default</td>\n",
       "      <td>446</td>\n",
       "      <td>G</td>\n",
       "      <td>17.0600</td>\n",
       "      <td>38</td>\n",
       "      <td>G446V (29), G446S (7), G446A (2)</td>\n",
       "    </tr>\n",
       "    <tr>\n",
       "      <td>REGN10987_400</td>\n",
       "      <td>sensitive</td>\n",
       "      <td>446</td>\n",
       "      <td>G</td>\n",
       "      <td>17.0600</td>\n",
       "      <td>38</td>\n",
       "      <td>G446V (29), G446S (7), G446A (2)</td>\n",
       "    </tr>\n",
       "    <tr>\n",
       "      <td>REGN10987_400</td>\n",
       "      <td>default</td>\n",
       "      <td>440</td>\n",
       "      <td>N</td>\n",
       "      <td>6.5280</td>\n",
       "      <td>35</td>\n",
       "      <td>N440K (29), N440Y (3), N440T (1), N440S (1), N440D (1)</td>\n",
       "    </tr>\n",
       "    <tr>\n",
       "      <td>REGN10987_400</td>\n",
       "      <td>sensitive</td>\n",
       "      <td>440</td>\n",
       "      <td>N</td>\n",
       "      <td>6.5280</td>\n",
       "      <td>35</td>\n",
       "      <td>N440K (29), N440Y (3), N440T (1), N440S (1), N440D (1)</td>\n",
       "    </tr>\n",
       "    <tr>\n",
       "      <td>CB6_400</td>\n",
       "      <td>sensitive</td>\n",
       "      <td>485</td>\n",
       "      <td>G</td>\n",
       "      <td>0.9733</td>\n",
       "      <td>34</td>\n",
       "      <td>G485R (32), G485S (2)</td>\n",
       "    </tr>\n",
       "    <tr>\n",
       "      <td>REGN10933_400</td>\n",
       "      <td>sensitive</td>\n",
       "      <td>485</td>\n",
       "      <td>G</td>\n",
       "      <td>1.2090</td>\n",
       "      <td>34</td>\n",
       "      <td>G485R (32), G485S (2)</td>\n",
       "    </tr>\n",
       "    <tr>\n",
       "      <td>CB6_400</td>\n",
       "      <td>sensitive</td>\n",
       "      <td>455</td>\n",
       "      <td>L</td>\n",
       "      <td>4.6550</td>\n",
       "      <td>33</td>\n",
       "      <td>L455F (33)</td>\n",
       "    </tr>\n",
       "    <tr>\n",
       "      <td>REGN10933+REGN10987_400</td>\n",
       "      <td>default</td>\n",
       "      <td>455</td>\n",
       "      <td>L</td>\n",
       "      <td>0.3302</td>\n",
       "      <td>33</td>\n",
       "      <td>L455F (33)</td>\n",
       "    </tr>\n",
       "    <tr>\n",
       "      <td>REGN10933_400</td>\n",
       "      <td>default</td>\n",
       "      <td>455</td>\n",
       "      <td>L</td>\n",
       "      <td>6.7860</td>\n",
       "      <td>33</td>\n",
       "      <td>L455F (33)</td>\n",
       "    </tr>\n",
       "    <tr>\n",
       "      <td>CB6_400</td>\n",
       "      <td>default</td>\n",
       "      <td>455</td>\n",
       "      <td>L</td>\n",
       "      <td>4.6550</td>\n",
       "      <td>33</td>\n",
       "      <td>L455F (33)</td>\n",
       "    </tr>\n",
       "    <tr>\n",
       "      <td>REGN10933+REGN10987_400</td>\n",
       "      <td>sensitive</td>\n",
       "      <td>455</td>\n",
       "      <td>L</td>\n",
       "      <td>0.3302</td>\n",
       "      <td>33</td>\n",
       "      <td>L455F (33)</td>\n",
       "    </tr>\n",
       "  </tbody>\n",
       "</table>"
      ],
      "text/plain": [
       "<IPython.core.display.HTML object>"
      ]
     },
     "metadata": {},
     "output_type": "display_data"
    }
   ],
   "source": [
    "sitecounts_strong_sites = (\n",
    "    mutcounts_strong_sites\n",
    "    .assign(mut_count=lambda x: x['mutation'] + ' (' + x['count'].astype(str) + ')')\n",
    "    .groupby(['condition', 'threshold', 'site', 'wildtype', config['site_metric']])\n",
    "    .aggregate({'count': 'sum', 'mut_count': ', '.join})\n",
    "    .rename(columns={'mut_count': 'counts_by_mutation'})\n",
    "    .reset_index()\n",
    "    .sort_values('count', ascending=False)\n",
    "    )\n",
    "\n",
    "print(f\"Here are first few lines showing the most frequently mutated sites of escape:\")\n",
    "display(HTML(sitecounts_strong_sites.head(n=20).to_html(index=False)))"
   ]
  },
  {
   "cell_type": "markdown",
   "metadata": {},
   "source": [
    "Now plot mutation counts (any mutation) at each site of escape for each antibody / sera:"
   ]
  },
  {
   "cell_type": "code",
   "execution_count": 10,
   "metadata": {
    "execution": {
     "iopub.execute_input": "2020-11-18T01:05:30.200029Z",
     "iopub.status.busy": "2020-11-18T01:05:30.199279Z",
     "iopub.status.idle": "2020-11-18T01:05:31.407255Z",
     "shell.execute_reply": "2020-11-18T01:05:31.406887Z"
    }
   },
   "outputs": [
    {
     "data": {
      "image/png": "[encoded data removed]",
      "text/plain": [
       "<Figure size 1600x200 with 8 Axes>"
      ]
     },
     "metadata": {},
     "output_type": "display_data"
    }
   ],
   "source": [
    "nconditions = sitecounts_strong_sites['condition'].nunique() * sitecounts_strong_sites['threshold'].nunique()\n",
    "ncol = 8\n",
    "nrow = math.ceil(nconditions / ncol)\n",
    "\n",
    "p = (ggplot(sitecounts_strong_sites) +\n",
    "     aes(config['site_metric'], 'count') +\n",
    "     geom_point(alpha=0.5) +\n",
    "     facet_wrap('~ condition + threshold', ncol=ncol) +\n",
    "     theme(figure_size=(2 * ncol, 2 * nrow)) +\n",
    "     xlab('site-level escape') +\n",
    "     ylab('sequences with mutation at site')\n",
    "     )\n",
    "\n",
    "_ = p.draw()"
   ]
  },
  {
   "cell_type": "markdown",
   "metadata": {},
   "source": [
    "## Perform analyses on subsets\n",
    "We perform analyses on all subsets in the escape profiles config for which this is specified:"
   ]
  },
  {
   "cell_type": "code",
   "execution_count": 11,
   "metadata": {
    "execution": {
     "iopub.execute_input": "2020-11-18T01:05:31.425735Z",
     "iopub.status.busy": "2020-11-18T01:05:31.425120Z",
     "iopub.status.idle": "2020-11-18T01:05:32.154484Z",
     "shell.execute_reply": "2020-11-18T01:05:32.153962Z"
    }
   },
   "outputs": [
    {
     "name": "stdout",
     "output_type": "stream",
     "text": [
      "\n",
      "Analyzing natural mutations for REGN_and_LY-CoV016\n",
      "Writing counts of mutations at sites of strong escape to results/GISAID_mutations/REGN_and_LY-CoV016_mutation_counts.csv. First few lines:\n"
     ]
    },
    {
     "data": {
      "text/html": [
       "<table border=\"1\" class=\"dataframe\">\n",
       "  <thead>\n",
       "    <tr style=\"text-align: right;\">\n",
       "      <th>condition</th>\n",
       "      <th>threshold</th>\n",
       "      <th>site</th>\n",
       "      <th>wildtype</th>\n",
       "      <th>count</th>\n",
       "      <th>counts_by_mutation</th>\n",
       "    </tr>\n",
       "  </thead>\n",
       "  <tbody>\n",
       "    <tr>\n",
       "      <td>REGN10987</td>\n",
       "      <td>sensitive</td>\n",
       "      <td>439</td>\n",
       "      <td>N</td>\n",
       "      <td>2242</td>\n",
       "      <td>N439K (2242)</td>\n",
       "    </tr>\n",
       "    <tr>\n",
       "      <td>REGN10933 + REGN10987</td>\n",
       "      <td>sensitive</td>\n",
       "      <td>453</td>\n",
       "      <td>Y</td>\n",
       "      <td>330</td>\n",
       "      <td>Y453F (330)</td>\n",
       "    </tr>\n",
       "    <tr>\n",
       "      <td>REGN10933</td>\n",
       "      <td>sensitive</td>\n",
       "      <td>453</td>\n",
       "      <td>Y</td>\n",
       "      <td>330</td>\n",
       "      <td>Y453F (330)</td>\n",
       "    </tr>\n",
       "    <tr>\n",
       "      <td>LY-CoV016</td>\n",
       "      <td>sensitive</td>\n",
       "      <td>501</td>\n",
       "      <td>N</td>\n",
       "      <td>225</td>\n",
       "      <td>N501Y (210), N501T (10), N501S (5)</td>\n",
       "    </tr>\n",
       "    <tr>\n",
       "      <td>REGN10933</td>\n",
       "      <td>sensitive</td>\n",
       "      <td>484</td>\n",
       "      <td>E</td>\n",
       "      <td>66</td>\n",
       "      <td>E484Q (29), E484K (27), E484A (6), E484D (3), E484R (1)</td>\n",
       "    </tr>\n",
       "    <tr>\n",
       "      <td>REGN10933 + REGN10987</td>\n",
       "      <td>sensitive</td>\n",
       "      <td>446</td>\n",
       "      <td>G</td>\n",
       "      <td>38</td>\n",
       "      <td>G446V (29), G446S (7), G446A (2)</td>\n",
       "    </tr>\n",
       "    <tr>\n",
       "      <td>REGN10987</td>\n",
       "      <td>sensitive</td>\n",
       "      <td>446</td>\n",
       "      <td>G</td>\n",
       "      <td>38</td>\n",
       "      <td>G446V (29), G446S (7), G446A (2)</td>\n",
       "    </tr>\n",
       "    <tr>\n",
       "      <td>REGN10987</td>\n",
       "      <td>sensitive</td>\n",
       "      <td>440</td>\n",
       "      <td>N</td>\n",
       "      <td>35</td>\n",
       "      <td>N440K (29), N440Y (3), N440T (1), N440S (1), N440D (1)</td>\n",
       "    </tr>\n",
       "    <tr>\n",
       "      <td>LY-CoV016</td>\n",
       "      <td>sensitive</td>\n",
       "      <td>485</td>\n",
       "      <td>G</td>\n",
       "      <td>34</td>\n",
       "      <td>G485R (32), G485S (2)</td>\n",
       "    </tr>\n",
       "    <tr>\n",
       "      <td>REGN10933</td>\n",
       "      <td>sensitive</td>\n",
       "      <td>485</td>\n",
       "      <td>G</td>\n",
       "      <td>34</td>\n",
       "      <td>G485R (32), G485S (2)</td>\n",
       "    </tr>\n",
       "  </tbody>\n",
       "</table>"
      ],
      "text/plain": [
       "<IPython.core.display.HTML object>"
      ]
     },
     "metadata": {},
     "output_type": "display_data"
    },
    {
     "name": "stdout",
     "output_type": "stream",
     "text": [
      "Plotting which antibodies / sera are escaped by mutations at all sites of escape with at least 5 mutation counts and saving to results/GISAID_mutations/REGN_and_LY-CoV016_mutation_counts.pdf.\n"
     ]
    },
    {
     "data": {
      "image/png": "[encoded data removed]",
      "text/plain": [
       "<Figure size 120x570 with 1 Axes>"
      ]
     },
     "metadata": {},
     "output_type": "display_data"
    }
   ],
   "source": [
    "for name, specs in escape_profiles_config.items():\n",
    "    if 'analyze_natural_mutations' not in specs or not specs['analyze_natural_mutations']:\n",
    "        continue\n",
    "    print(f\"\\nAnalyzing natural mutations for {name}\")\n",
    "    \n",
    "    conditions = specs['conditions']\n",
    "    \n",
    "    threshold = specs['plot_auto_identified_sites']\n",
    "    if threshold not in sitecounts_strong_sites['threshold'].unique():\n",
    "        raise ValueError(f\"invalid threshold {threshold} for {name}\")\n",
    "    \n",
    "    # get count for conditions of interest for this subset\n",
    "    df = (sitecounts_strong_sites\n",
    "          .query('condition in @conditions')\n",
    "          .query('threshold == @threshold')\n",
    "          .assign(condition=lambda x: x['condition'].map(conditions))\n",
    "          .drop(columns=config['site_metric'])\n",
    "          )\n",
    "    countsfile = os.path.join(config['gisaid_mutations_dir'], f\"{name}_mutation_counts.csv\")\n",
    "    print(f\"Writing counts of mutations at sites of strong escape to {countsfile}. First few lines:\")\n",
    "    display(HTML(df.head(n=10).to_html(index=False)))\n",
    "    df.to_csv(countsfile, index=False)\n",
    "    \n",
    "    # make plot showing escape sites with more than mincounts mutations\n",
    "    if 'natural_mutations_mincounts' in specs:\n",
    "        mincounts = specs['natural_mutations_mincounts']\n",
    "    else:\n",
    "        mincounts = 5\n",
    "    plotsfile = os.path.join(config['gisaid_mutations_dir'], f\"{name}_mutation_counts.pdf\")\n",
    "    print('Plotting which antibodies / sera are escaped by mutations at all sites of '\n",
    "          f\"escape with at least {mincounts} mutation counts and saving to {plotsfile}.\")\n",
    "    plot_df = (\n",
    "        # data frame with all combinations of conditions and sites\n",
    "        pd.DataFrame.from_records([(condition, site) for condition in conditions.values()\n",
    "                                   for site in df['site'].unique()],\n",
    "                                  columns=['condition', 'site'])\n",
    "        # annotate sites of escape\n",
    "        .merge(df.assign(escape=lambda x: x['count'] >= mincounts)[['condition', 'site', 'escape']],\n",
    "               how='left',\n",
    "               validate='one_to_one',\n",
    "               on=['condition', 'site'])\n",
    "        .assign(escape=lambda x: x['escape'].fillna(False))\n",
    "        # add wildtype and counts of mutations at each site\n",
    "        .merge(sitecounts_strong_sites[['site', 'wildtype', 'count']].drop_duplicates(),\n",
    "               how='left',\n",
    "               validate='many_to_one',\n",
    "               on='site')\n",
    "        # get only sites with sufficient mutation counts\n",
    "        .query('count > @mincounts')\n",
    "        # only get sites where at least one antibody escapes\n",
    "        .assign(n_escape=lambda x: x.groupby('site')['escape'].transform('sum'))\n",
    "        .query('n_escape > 0')\n",
    "        # order conditions, and order sites by count after making nice label\n",
    "        .assign(site_label=lambda x: x['wildtype'] + x['site'].astype(str) + ' (' + x['count'].astype(str) + ')')\n",
    "        .sort_values('count')\n",
    "        .assign(condition=lambda x: pd.Categorical(x['condition'], list(conditions.values()), ordered=True),\n",
    "                site_label=lambda x: pd.Categorical(x['site_label'], x['site_label'].unique(), ordered=True)\n",
    "                )\n",
    "        )\n",
    "    p = (ggplot(plot_df) +\n",
    "         aes('condition', 'site_label', fill='escape') +\n",
    "         geom_tile(color='black', size=0.3) +\n",
    "         theme(axis_text_x=element_text(angle=90),\n",
    "               figure_size=(0.3 * plot_df['condition'].nunique(), 0.3 * plot_df['site_label'].nunique()),\n",
    "               panel_background=element_blank(),\n",
    "               ) +\n",
    "         xlab('') +\n",
    "         ylab('') +\n",
    "         scale_fill_manual(values=['white', 'dimgray'])\n",
    "         )\n",
    "    p.save(plotsfile, verbose=False)\n",
    "    fig = p.draw()\n",
    "    display(fig)\n",
    "    plt.close(fig)"
   ]
  },
  {
   "cell_type": "code",
   "execution_count": null,
   "metadata": {},
   "outputs": [],
   "source": []
  }
 ],
 "metadata": {
  "language_info": {
   "codemirror_mode": {
    "name": "ipython",
    "version": 3
   },
   "file_extension": ".py",
   "mimetype": "text/x-python",
   "name": "python",
   "nbconvert_exporter": "python",
   "pygments_lexer": "ipython3",
   "version": "3.7.8"
  }
 },
 "nbformat": 4,
 "nbformat_minor": 4
}
